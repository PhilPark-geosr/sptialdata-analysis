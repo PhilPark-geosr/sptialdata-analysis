{
 "cells": [
  {
   "cell_type": "code",
   "execution_count": null,
   "metadata": {},
   "outputs": [],
   "source": [
    "import geoplot as gplt #conda install -c conda-forge geoplot\n",
    "import geoplot.crs as gcrs\n",
    "import geopandas as gpd\n",
    "gpd.__version__\n",
    "import matplotlib.pyplot as plt\n",
    "import pandas as pd\n",
    "import pyproj\n",
    "from fiona.crs import from_epsg\n",
    "import mapclassify"
   ]
  },
  {
   "cell_type": "code",
   "execution_count": null,
   "metadata": {},
   "outputs": [],
   "source": [
    "coastline= gpd.read_file('./Coastlinse_khoa/Coastlinse_khoa.shp', encoding='euc-kr')  \n",
    "coastline.plot(figsize=(20,20))\n",
    "coastline.crs"
   ]
  },
  {
   "cell_type": "code",
   "execution_count": null,
   "metadata": {},
   "outputs": [],
   "source": [
    "data = pd.read_csv('&안전국어획고_2017_SJ_AREA.csv', encoding='euckr')\n",
    "data.columns\n",
    "data = data[['그룹','어업생산이', 'X_center', 'Y_center']]\n",
    "geom_fish2 = gpd.points_from_xy(data.X_center, data.Y_center)\n",
    "gdf_fish2 = gpd.GeoDataFrame(data, geometry=geom_fish2, crs=from_epsg(4326))\n",
    "#df_cctv_gdf.info()\n",
    "gdf_fish2 = gdf_fish2.to_crs(epsg=3857)\n",
    "gdf_fish2.head()\n",
    "# gdf_fish2.plot()"
   ]
  },
  {
   "cell_type": "code",
   "execution_count": null,
   "metadata": {},
   "outputs": [],
   "source": [
    "coastline2 = coastline.to_crs(epsg=3857)\n",
    "# coastline2.plot(color=\"goldenrod\", edgecolor='k')"
   ]
  },
  {
   "cell_type": "code",
   "execution_count": null,
   "metadata": {},
   "outputs": [],
   "source": [
    "gdf_fish2_4326 = gdf_fish2.to_crs(epsg=4326)\n",
    "coastline2_4326 = coastline2.to_crs(epsg=4326)"
   ]
  },
  {
   "cell_type": "code",
   "execution_count": null,
   "metadata": {},
   "outputs": [],
   "source": [
    "gal=pd.read_csv('전체대비_갈치류.csv',encoding='euckr')"
   ]
  },
  {
   "cell_type": "code",
   "execution_count": null,
   "metadata": {},
   "outputs": [],
   "source": [
    "data = pd.read_csv('&안전국어획고_2017_SJ_AREA.csv', encoding='euckr')\n",
    "data2= data[['그룹','어업생산이','MIN1', 'X_center', 'Y_center']]\n",
    "grouped = data2.groupby('MIN1')\n",
    "data2 = pd.DataFrame(grouped.mean()[['X_center', 'Y_center']])\n",
    "data2.reset_index(inplace=True)\n",
    "GRID_LIST = data['MIN1']"
   ]
  },
  {
   "cell_type": "code",
   "execution_count": null,
   "metadata": {},
   "outputs": [],
   "source": [
    "match_df = pd.DataFrame()\n",
    "GRID_LIST = gal['MIN1']\n",
    "count=0\n",
    "for GRID in GRID_LIST:\n",
    "    print(len(GRID_LIST)-count)\n",
    "    df2= data2[data2['MIN1']==GRID]\n",
    "    match_df = match_df.append(df2[['MIN1', 'X_center', 'Y_center']])\n",
    "    # print(df2[['X_center', 'Y_center']])\n",
    "    count+=1\n",
    "match = pd.merge(match_df, gal, on='MIN1', how='outer')"
   ]
  },
  {
   "cell_type": "code",
   "execution_count": null,
   "metadata": {},
   "outputs": [],
   "source": [
    "gal"
   ]
  },
  {
   "cell_type": "code",
   "execution_count": null,
   "metadata": {},
   "outputs": [],
   "source": [
    "match.dropna(inplace=True)\n",
    "match"
   ]
  },
  {
   "cell_type": "code",
   "execution_count": null,
   "metadata": {},
   "outputs": [],
   "source": [
    "geom_match = gpd.points_from_xy(match.X_center, match.Y_center)\n",
    "gdf_match = gpd.GeoDataFrame(match[['MIN1','ratio']], geometry=geom_match, crs=from_epsg(4326))\n",
    "gdf_match = gdf_match.to_crs(epsg=3857)\n",
    "# gdf_match.head()\n",
    "# gdf_match.plot()\n",
    "gdf_match4326 = gdf_match.to_crs(epsg=4326)"
   ]
  },
  {
   "cell_type": "code",
   "execution_count": null,
   "metadata": {},
   "outputs": [],
   "source": [
    "geom_match"
   ]
  },
  {
   "cell_type": "code",
   "execution_count": null,
   "metadata": {},
   "outputs": [],
   "source": [
    "gdf_match4326"
   ]
  },
  {
   "cell_type": "code",
   "execution_count": null,
   "metadata": {},
   "outputs": [],
   "source": [
    "gdf_match4326"
   ]
  },
  {
   "cell_type": "code",
   "execution_count": null,
   "metadata": {},
   "outputs": [],
   "source": [
    "scheme = mapclassify.Quantiles(gdf_match4326['ratio'], k=10)\n",
    "ax = gplt.pointplot(gdf_fish2_4326, color='powderblue',figsize=(50, 30), marker='s')\n",
    "\n",
    "gplt.kdeplot(gdf_match4326, levels=50,common_norm=True, cmap='Reds',  figsize=(50, 30), alpha=0.5, shade=True,  ax = ax)\n",
    "\n",
    "# gplt.kdeplot(gdf_match4326, hue='어업생산이', scheme=scheme,  cbar=True, figsize=(50, 30), shade=True,  ax = ax)\n",
    "# # gplt.pointplot(gdf_match4326,hue ='어업생산이',scheme=scheme, legend = True, cmap='coolwarm',figsize=(50, 30), ax=ax, marker='s')\n",
    "gplt.polyplot(coastline2_4326, facecolor='wheat', edgecolor='black',ax=ax, zorder=1,linewidth=0.5)"
   ]
  },
  {
   "cell_type": "code",
   "execution_count": null,
   "metadata": {},
   "outputs": [],
   "source": [
    "for i in range(5):\n",
    "    scheme = mapclassify.Quantiles(gdf_match4326['어업생산이'], k=10*(i+1))\n",
    "    ax = gplt.pointplot(gdf_fish2_4326, color='ivory',figsize=(50, 30))\n",
    "    gplt.pointplot(gdf_match4326,hue ='어업생산이',scheme=scheme, legend = True, cmap='jet',figsize=(50, 30), ax=ax, marker='s',\n",
    "    legend_kwargs={'frameon': False, 'loc': 'lower right'})\n",
    "    gplt.polyplot(coastline2_4326, facecolor='wheat', edgecolor='black',ax=ax, zorder=1,linewidth=0.5)\n",
    "    plt.savefig('test_'+str(10*(i+1)))"
   ]
  }
 ],
 "metadata": {
  "interpreter": {
   "hash": "7265bdfb622e83cf0ba2e1ed2d4b1577a7ca1e0015e657c06325d3821285cb41"
  },
  "kernelspec": {
   "display_name": "Python 3.8.12 64-bit ('geopandas2': conda)",
   "language": "python",
   "name": "python3"
  },
  "language_info": {
   "codemirror_mode": {
    "name": "ipython",
    "version": 3
   },
   "file_extension": ".py",
   "mimetype": "text/x-python",
   "name": "python",
   "nbconvert_exporter": "python",
   "pygments_lexer": "ipython3",
   "version": "3.8.12"
  },
  "orig_nbformat": 4
 },
 "nbformat": 4,
 "nbformat_minor": 2
}
