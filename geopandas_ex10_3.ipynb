{
 "cells": [
  {
   "cell_type": "code",
   "execution_count": 1,
   "metadata": {},
   "outputs": [],
   "source": [
    "import geoplot as gplt \n",
    "import geoplot.crs as gcrs\n",
    "import geopandas as gpd\n",
    "gpd.__version__\n",
    "import matplotlib.pyplot as plt\n",
    "import pandas as pd\n",
    "import pyproj\n",
    "from fiona.crs import from_epsg\n",
    "import mapclassify as mc\n",
    "import glob\n",
    "\n",
    "#해안선 받아놓기\n",
    "\n",
    "# coastline= gpd.read_file('./Coastlinse_khoa/Coastlinse_khoa.shp', encoding='utf8')\n",
    "# #5179로변환  \n",
    "\n",
    "# coastline= coastline.to_crs(epsg=5179)"
   ]
  },
  {
   "cell_type": "code",
   "execution_count": 2,
   "metadata": {},
   "outputs": [],
   "source": [
    "input = gpd.read_file('./Ex/220203/남한육역 면적/남한육역 면적.shp', encoding='utf8')\n",
    "# plot_map(input)"
   ]
  },
  {
   "cell_type": "code",
   "execution_count": 3,
   "metadata": {},
   "outputs": [
    {
     "name": "stdout",
     "output_type": "stream",
     "text": [
      "개발비용(CAPEX) 5.5MW 터빈 및 석션기초.shp\n"
     ]
    }
   ],
   "source": [
    "flist = glob.glob('./Ex/220214/20220225/**/*.shp', recursive=True)\n",
    "for fname in flist:\n",
    "    print(fname.split('\\\\')[-1])\n",
    "# flist"
   ]
  },
  {
   "cell_type": "code",
   "execution_count": 5,
   "metadata": {},
   "outputs": [
    {
     "name": "stdout",
     "output_type": "stream",
     "text": [
      "개발비용(CAPEX) 5.5MW 터빈 및 석션기초.shp\n"
     ]
    }
   ],
   "source": [
    "# flist = ['D:/###기타업무/개인연구/2021/Geopandas/Ex/220203/법정정보/9.환경생태계(26)/해양보호생물서식지.shp']\n",
    "for fname in flist:\n",
    "    print(fname.split('\\\\')[-1])\n",
    "    try:\n",
    "        object = gpd.read_file(fname, encoding='utf8')\n",
    "        # object = object['geometry']\n",
    "    except Exception as e:\n",
    "        # print(e, fname)\n",
    "        object = gpd.read_file(fname, encoding='euckr')\n",
    "        # object = object['geometry']\n",
    "    # print(object)   \n",
    "    object= object.to_crs(epsg=5179)\n",
    "    # result = gpd.overlay( input, object, how='difference')\n",
    "    try:\n",
    "        result = gpd.overlay(object, input,how='difference')\n",
    "    \n",
    "    # columnlist = result.columns.tolist()\n",
    "    # result=result[[columnlist[0], 'geometry']]\n",
    "        # result=result[['geometry']]\n",
    "\n",
    "    # print('저장을 시작합니다')\n",
    "        result.to_file('./result/ex10/shp/'+fname.split('\\\\')[-1], encoding='euckr')\n",
    "    except Exception as e:\n",
    "        print(e)\n",
    "        pass\n",
    "    # print('저장이 완료되었습니다' )\n",
    "    \n",
    "    # result = gpd.sjoin(object, input,  op='intersects')\n",
    "    # plt.savefig('./result\n",
    "    # /ex8/'+fname.split('\\\\')[-1].split('.')[0],dpi=300)\n",
    "    # plt.savefig('./result/ex8/test.png')\n",
    "    # result.drop_duplicates(['MIN1'], keep='first', inplace=True)"
   ]
  },
  {
   "cell_type": "code",
   "execution_count": null,
   "metadata": {},
   "outputs": [],
   "source": []
  }
 ],
 "metadata": {
  "interpreter": {
   "hash": "7265bdfb622e83cf0ba2e1ed2d4b1577a7ca1e0015e657c06325d3821285cb41"
  },
  "kernelspec": {
   "display_name": "Python 3.8.12 64-bit ('geopandas2': conda)",
   "language": "python",
   "name": "python3"
  },
  "language_info": {
   "codemirror_mode": {
    "name": "ipython",
    "version": 3
   },
   "file_extension": ".py",
   "mimetype": "text/x-python",
   "name": "python",
   "nbconvert_exporter": "python",
   "pygments_lexer": "ipython3",
   "version": "3.8.12"
  },
  "orig_nbformat": 4
 },
 "nbformat": 4,
 "nbformat_minor": 2
}
