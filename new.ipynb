{
 "cells": [
  {
   "cell_type": "code",
   "execution_count": null,
   "metadata": {},
   "outputs": [],
   "source": [
    "import geoplot as gplt #conda install -c conda-forge geoplot\n",
    "import geoplot.crs as gcrs\n",
    "import geopandas as gpd\n",
    "gpd.__version__\n",
    "import matplotlib.pyplot as plt\n",
    "import pandas as pd\n",
    "import pyproj\n",
    "from fiona.crs import from_epsg"
   ]
  },
  {
   "cell_type": "code",
   "execution_count": null,
   "metadata": {},
   "outputs": [],
   "source": [
    "coastline= gpd.read_file('./Coastlinse_khoa/Coastlinse_khoa.shp', encoding='euc-kr')  \n",
    "coastline.plot(figsize=(20,20))\n",
    "coastline.crs"
   ]
  },
  {
   "cell_type": "code",
   "execution_count": null,
   "metadata": {},
   "outputs": [],
   "source": []
  },
  {
   "cell_type": "code",
   "execution_count": null,
   "metadata": {},
   "outputs": [],
   "source": [
    "data = pd.read_csv('test.csv', encoding='euckr')\n",
    "data.columns = ['total', 'MIN3', 'MIN1', 'lon','lat']\n",
    "columns= ['total', 'lon', 'lat']\n",
    "geom_fish = gpd.points_from_xy(data.lon, data.lat)\n",
    "\n",
    "gdf_fish = gpd.GeoDataFrame(data[columns], geometry=geom_fish, crs=from_epsg(4326))\n",
    "#df_cctv_gdf.info()\n",
    "gdf_fish = gdf_fish.to_crs(epsg=3857)\n",
    "gdf_fish.head()\n",
    "gdf_fish.plot()"
   ]
  },
  {
   "cell_type": "code",
   "execution_count": null,
   "metadata": {},
   "outputs": [],
   "source": [
    "data"
   ]
  },
  {
   "cell_type": "code",
   "execution_count": null,
   "metadata": {},
   "outputs": [],
   "source": [
    "data = pd.read_csv('&안전국어획고_2017_SJ_AREA.csv', encoding='euckr')\n",
    "data.columns\n",
    "data = data[['그룹','어업생산이', 'X_center', 'Y_center']]\n",
    "geom_fish2 = gpd.points_from_xy(data.X_center, data.Y_center)\n",
    "gdf_fish2 = gpd.GeoDataFrame(data, geometry=geom_fish2, crs=from_epsg(4326))\n",
    "#df_cctv_gdf.info()\n",
    "gdf_fish2 = gdf_fish2.to_crs(epsg=3857)\n",
    "gdf_fish2.head()\n",
    "# gdf_fish2.plot()"
   ]
  },
  {
   "cell_type": "code",
   "execution_count": null,
   "metadata": {},
   "outputs": [],
   "source": [
    "data"
   ]
  },
  {
   "cell_type": "code",
   "execution_count": null,
   "metadata": {},
   "outputs": [],
   "source": [
    "coastline2 = coastline.to_crs(epsg=3857)\n",
    "# coastline2.plot(color=\"goldenrod\", edgecolor='k')"
   ]
  },
  {
   "cell_type": "code",
   "execution_count": null,
   "metadata": {},
   "outputs": [],
   "source": [
    "ax = gdf_fish2.plot(column = '어업생산이',color = 'wheat',scheme=\"quantiles\", k=5, legend = True, figsize=(50, 30))\n",
    "ax.set_title(\"서울 특별시 기초구역도\")\n",
    "gdf_fish.plot(column = 'total',cmap = 'plasma',marker = 's',scheme=\"quantiles\", k=10, legend = True, ax=ax)\n",
    "coastline2.plot(color=\"goldenrod\", edgecolor='k' , ax = ax)"
   ]
  },
  {
   "cell_type": "code",
   "execution_count": null,
   "metadata": {},
   "outputs": [],
   "source": [
    "gdf_fish4326 = gdf_fish.to_crs(epsg=4326)\n",
    "gdf_fish2_4326 = gdf_fish2.to_crs(epsg=4326)\n",
    "coastline2_4326 = coastline2.to_crs(epsg=4326)"
   ]
  },
  {
   "cell_type": "code",
   "execution_count": null,
   "metadata": {},
   "outputs": [],
   "source": [
    "import mapclassify\n",
    "scheme = mapclassify.Quantiles(gdf_fish2_4326['어업생산이'], k=5)"
   ]
  },
  {
   "cell_type": "code",
   "execution_count": null,
   "metadata": {},
   "outputs": [],
   "source": [
    "gdf_fish4326"
   ]
  },
  {
   "cell_type": "code",
   "execution_count": null,
   "metadata": {},
   "outputs": [],
   "source": []
  },
  {
   "cell_type": "code",
   "execution_count": null,
   "metadata": {},
   "outputs": [],
   "source": [
    "ax = gplt.kdeplot(gdf_fish2_4326, hue='어업생산이', legend = True, figsize=(50, 30))\n",
    "gplt.kdeplot(gdf_fish4326, cmap='BuGn', \n",
    "                  figsize=(50, 30), shade=False, alpha=0.3, ax = ax)\n",
    "gplt.polyplot(coastline2_4326, ax=ax)"
   ]
  },
  {
   "cell_type": "code",
   "execution_count": null,
   "metadata": {},
   "outputs": [],
   "source": [
    "ax = gplt.pointplot(gdf_fish2_4326, color='wheat',figsize=(50, 30))\n",
    "gplt.kdeplot(gdf_fish4326, cmap='Reds', \n",
    "                  figsize=(50, 30), shade=True,  ax = ax)\n",
    "gplt.polyplot(coastline2_4326, ax=ax, zorder=1)"
   ]
  },
  {
   "cell_type": "code",
   "execution_count": null,
   "metadata": {},
   "outputs": [],
   "source": [
    "ax = gplt.pointplot(gdf_fish2_4326,hue ='어업생산이',scheme=scheme, legend = True, figsize=(50, 30))\n",
    "gplt.kdeplot(gdf_fish4326, cmap='BuGn', \n",
    "                  figsize=(50, 30), shade=False, alpha=0.3, ax = ax)\n",
    "gplt.polyplot(coastline2_4326, ax=ax)"
   ]
  },
  {
   "cell_type": "code",
   "execution_count": null,
   "metadata": {},
   "outputs": [],
   "source": [
    "gplt.polyplot(coastline2_4326)"
   ]
  },
  {
   "cell_type": "code",
   "execution_count": null,
   "metadata": {},
   "outputs": [],
   "source": [
    "coastline2_4326.plot(color=\"goldenrod\", edgecolor='k')"
   ]
  },
  {
   "cell_type": "code",
   "execution_count": null,
   "metadata": {},
   "outputs": [],
   "source": [
    "data"
   ]
  },
  {
   "cell_type": "code",
   "execution_count": null,
   "metadata": {},
   "outputs": [],
   "source": [
    "data = pd.read_csv('&안전국어획고_2017_SJ_AREA.csv', encoding='euckr')\n"
   ]
  },
  {
   "cell_type": "code",
   "execution_count": null,
   "metadata": {},
   "outputs": [],
   "source": [
    "data2= data[['그룹','어업생산이','MIN1', 'X_center', 'Y_center']]\n",
    "grouped = data2.groupby('MIN1')\n",
    "grouped\n",
    "# geom_fish2 = gpd.points_from_xy(data.X_center, data.Y_center)"
   ]
  },
  {
   "cell_type": "code",
   "execution_count": null,
   "metadata": {},
   "outputs": [],
   "source": [
    "data2 = pd.DataFrame(grouped.mean()[['X_center', 'Y_center']])\n",
    "data2.reset_index(inplace=True)\n",
    "GRID_LIST = data['MIN1']"
   ]
  },
  {
   "cell_type": "code",
   "execution_count": null,
   "metadata": {},
   "outputs": [],
   "source": [
    "data2"
   ]
  },
  {
   "cell_type": "code",
   "execution_count": null,
   "metadata": {},
   "outputs": [],
   "source": [
    "for i in range(1):\n",
    "    df_loop = data[data['MIN1'] == GRID_LIST[i]]\n",
    "\n",
    "    print(df_loop[['MIN1', 'X_center']].iloc[0])"
   ]
  },
  {
   "cell_type": "code",
   "execution_count": null,
   "metadata": {},
   "outputs": [],
   "source": [
    "match_df = pd.DataFrame()\n",
    "for GRID in GRID_LIST :\n",
    "\tprint(GRID)\n",
    "\tdf_loop = data[data['MIN1'] == GRID]\n",
    "\tmatch_df = match_df.append(df_loop[['MIN1', 'X_center']].iloc[0])\n",
    "# match = pd.merge(match_df, df1, on='MIN1', how='outer')\n",
    "print(match_df)"
   ]
  },
  {
   "cell_type": "code",
   "execution_count": null,
   "metadata": {},
   "outputs": [],
   "source": [
    "gal=pd.read_csv('All_to_갈치류.csv',encoding='euckr')\n",
    "gal"
   ]
  },
  {
   "cell_type": "code",
   "execution_count": null,
   "metadata": {},
   "outputs": [],
   "source": [
    "data2"
   ]
  },
  {
   "cell_type": "code",
   "execution_count": null,
   "metadata": {},
   "outputs": [],
   "source": [
    "match_df = pd.DataFrame()\n",
    "GRID_LIST = gal['MIN1']\n",
    "count=0\n",
    "for GRID in GRID_LIST:\n",
    "    print(len(GRID_LIST)-count)\n",
    "    df2= data2[data2['MIN1']==GRID]\n",
    "    match_df = match_df.append(df2[['MIN1', 'X_center', 'Y_center']])\n",
    "    # print(df2[['X_center', 'Y_center']])\n",
    "    count+=1\n",
    "match = pd.merge(match_df, gal, on='MIN1', how='outer')"
   ]
  },
  {
   "cell_type": "code",
   "execution_count": null,
   "metadata": {},
   "outputs": [],
   "source": [
    "match.dropna(inplace=True)\n",
    "match"
   ]
  },
  {
   "cell_type": "code",
   "execution_count": null,
   "metadata": {},
   "outputs": [],
   "source": [
    "geom_match = gpd.points_from_xy(match.X_center, match.Y_center)\n",
    "\n",
    "gdf_match = gpd.GeoDataFrame(match[['MIN1','어업생산이']], geometry=geom_match, crs=from_epsg(4326))\n",
    "#df_cctv_gdf.info()\n",
    "gdf_match = gdf_match.to_crs(epsg=3857)\n",
    "gdf_match.head()\n",
    "gdf_match.plot()"
   ]
  },
  {
   "cell_type": "code",
   "execution_count": null,
   "metadata": {},
   "outputs": [],
   "source": [
    "gdf_match4326 = gdf_match.to_crs(epsg=4326)"
   ]
  },
  {
   "cell_type": "code",
   "execution_count": null,
   "metadata": {},
   "outputs": [],
   "source": [
    "scheme = mapclassify.Quantiles(gdf_match4326['어업생산이'], k=10)\n",
    "ax = gplt.pointplot(gdf_fish2_4326, color='ivory',figsize=(50, 30))\n",
    "gplt.pointplot(gdf_match4326,hue ='어업생산이',scheme=scheme, legend = True, cmap='coolwarm',figsize=(50, 30), ax=ax, marker='s')\n",
    "gplt.polyplot(coastline2_4326, facecolor='wheat', edgecolor='black',ax=ax, zorder=1,linewidth=0.5)"
   ]
  },
  {
   "cell_type": "code",
   "execution_count": null,
   "metadata": {},
   "outputs": [],
   "source": [
    "for i in range(5):\n",
    "    scheme = mapclassify.Quantiles(gdf_match4326['어업생산이'], k=10*(i+1))\n",
    "    ax = gplt.pointplot(gdf_fish2_4326, color='ivory',figsize=(50, 30))\n",
    "    gplt.pointplot(gdf_match4326,hue ='어업생산이',scheme=scheme, legend = True, cmap='jet',figsize=(50, 30), ax=ax, marker='s',\n",
    "    legend_kwargs={'frameon': False, 'loc': 'lower right'})\n",
    "    gplt.polyplot(coastline2_4326, facecolor='wheat', edgecolor='black',ax=ax, zorder=1,linewidth=0.5)\n",
    "    plt.savefig('test_'+str(10*(i+1)))"
   ]
  }
 ],
 "metadata": {
  "interpreter": {
   "hash": "7265bdfb622e83cf0ba2e1ed2d4b1577a7ca1e0015e657c06325d3821285cb41"
  },
  "kernelspec": {
   "display_name": "Python 3.8.12 64-bit ('geopandas2': conda)",
   "language": "python",
   "name": "python3"
  },
  "language_info": {
   "codemirror_mode": {
    "name": "ipython",
    "version": 3
   },
   "file_extension": ".py",
   "mimetype": "text/x-python",
   "name": "python",
   "nbconvert_exporter": "python",
   "pygments_lexer": "ipython3",
   "version": "3.8.12"
  },
  "orig_nbformat": 4
 },
 "nbformat": 4,
 "nbformat_minor": 2
}
