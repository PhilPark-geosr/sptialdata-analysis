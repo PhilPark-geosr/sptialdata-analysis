{
 "cells": [
  {
   "cell_type": "code",
   "execution_count": null,
   "metadata": {},
   "outputs": [],
   "source": [
    "# 라이브러리 추가\n",
    "import geopandas as gpd\n",
    "gpd.__version__\n",
    "import matplotlib.pyplot as plt\n",
    "import pandas as pd"
   ]
  },
  {
   "cell_type": "code",
   "execution_count": null,
   "metadata": {},
   "outputs": [],
   "source": [
    "seoul_file = \"D:/###기타업무/개인연구/2021/Geopandas/202105기초구역DB_전체분/서울특별시/11000/TL_KODIS_BAS.shp\"\n",
    "seoul = gpd.read_file(seoul_file, encoding='euckr')\n",
    "seoul.tail(3)"
   ]
  },
  {
   "cell_type": "code",
   "execution_count": null,
   "metadata": {},
   "outputs": [],
   "source": [
    "seoul.crs"
   ]
  },
  {
   "cell_type": "code",
   "execution_count": null,
   "metadata": {},
   "outputs": [],
   "source": [
    "ax = seoul.plot(figsize=(11, 11), color=\"w\", edgecolor=\"k\")\n",
    "ax.set_title(\"서울 특별시 기초구역도\")\n",
    "ax.set_axis_off()\n",
    "plt.show()\n",
    "\n"
   ]
  },
  {
   "cell_type": "code",
   "execution_count": null,
   "metadata": {},
   "outputs": [],
   "source": [
    "sample = seoul[seoul.SIG_KOR_NM == \"동작구\"]\n",
    "\n",
    "ax = plt.subplot(2, 2, 1)\n",
    "sample.plot(color='k', edgecolor=\"w\", ax=ax)\n",
    "ax.set_title(\"동작구\")\n",
    "ax.set_axis_off()"
   ]
  },
  {
   "cell_type": "code",
   "execution_count": null,
   "metadata": {},
   "outputs": [],
   "source": [
    "ax = plt.subplot(2, 2, 2)\n",
    "sample.convex_hull.plot(color='r', edgecolor=\"w\", ax=ax)\n",
    "ax.set_title(\"convex_hull\")\n",
    "ax.set_axis_off()"
   ]
  },
  {
   "cell_type": "code",
   "execution_count": null,
   "metadata": {},
   "outputs": [],
   "source": [
    "seoul = seoul.dissolve(by='SIG_CD')\n",
    "ax = seoul.plot(figsize=(15, 15), column=\"SIG_KOR_NM\", categorical=True,\n",
    "                cmap=\"tab20b\", edgecolor=\"k\", legend=True, legend_kwds={'loc': 3})\n",
    "ax.set_title(\"구 별로 묶은 서울의 기초 구역도\")\n",
    "ax.set_axis_off()\n",
    "plt.show()"
   ]
  },
  {
   "cell_type": "code",
   "execution_count": null,
   "metadata": {},
   "outputs": [],
   "source": [
    "seoul"
   ]
  },
  {
   "cell_type": "code",
   "execution_count": null,
   "metadata": {},
   "outputs": [],
   "source": [
    "df_cctv = pd.read_excel('12_04_08_E_CCTV정보.xlsx', index_col=None, header=0)\n"
   ]
  },
  {
   "cell_type": "code",
   "execution_count": null,
   "metadata": {},
   "outputs": [],
   "source": [
    "df_cctv = df_cctv[['관리기관명','소재지도로명주소', '카메라대수', 'WGS84위도', 'WGS84경도']]\n",
    "df_cctv[['WGS84위도', 'WGS84경도']].dropna()\n",
    "df_cctv_sl  = df_cctv[df_cctv['관리기관명'].str.contains('서울')]\n",
    "df_cctv_sl.columns = ['admin', 'addr1', 'cnt', 'lat', 'lon']\n"
   ]
  },
  {
   "cell_type": "code",
   "execution_count": null,
   "metadata": {},
   "outputs": [],
   "source": [
    "geom_cctv = gpd.points_from_xy(df_cctv_sl.lon, df_cctv_sl.lat)\n",
    "geom_cctv"
   ]
  },
  {
   "cell_type": "code",
   "execution_count": null,
   "metadata": {},
   "outputs": [],
   "source": [
    "import pyproj\n",
    "from fiona.crs import from_epsg"
   ]
  },
  {
   "cell_type": "code",
   "execution_count": null,
   "metadata": {},
   "outputs": [],
   "source": [
    "sample = seoul[seoul.SIG_KOR_NM == \"강남구\"]\n",
    "ax = plt.subplot(2, 2, 2)\n",
    "sample.convex_hull.plot(color='r', edgecolor=\"w\", ax=ax)\n",
    "ax.set_title(\"convex_hull\")\n",
    "ax.set_axis_off()"
   ]
  },
  {
   "cell_type": "code",
   "execution_count": null,
   "metadata": {},
   "outputs": [],
   "source": [
    "# coulumns = ['admin', 'addr1']\n",
    "coulumns = ['admin', 'cnt']\n",
    "df_cctv_sl['cnt'] = df_cctv_sl['cnt']*1000\n",
    "gdf_cctv = gpd.GeoDataFrame(df_cctv_sl[coulumns], geometry=geom_cctv, crs=from_epsg(4326))\n",
    "#df_cctv_gdf.info()\n",
    "\n",
    "gdf_cctv.head()"
   ]
  },
  {
   "cell_type": "code",
   "execution_count": null,
   "metadata": {},
   "outputs": [],
   "source": [
    "gdf_cctv2 = gdf_cctv.to_crs(epsg=3857)  #좌표계를 epsg 3857로 변환\n",
    "gdf_cctv2.plot(color='gray')"
   ]
  },
  {
   "cell_type": "code",
   "execution_count": null,
   "metadata": {},
   "outputs": [],
   "source": [
    "gdf_cctv2.plot()"
   ]
  },
  {
   "cell_type": "code",
   "execution_count": null,
   "metadata": {},
   "outputs": [],
   "source": [
    "gdf_cctv3"
   ]
  },
  {
   "cell_type": "code",
   "execution_count": null,
   "metadata": {},
   "outputs": [],
   "source": [
    "gdf_cctv3 = gdf_cctv2[gdf_cctv2['admin'].isin(['서울특별시 강남구청'])]\n",
    "gdf_cctv3.plot(cmap ='rainbow')"
   ]
  },
  {
   "cell_type": "code",
   "execution_count": null,
   "metadata": {},
   "outputs": [],
   "source": [
    "ax = plt.subplot(2, 2, 2)\n",
    "sample.convex_hull.plot(color='r', edgecolor=\"w\", ax=ax)\n",
    "ax.set_title(\"convex_hull\")\n",
    "ax.set_axis_off()"
   ]
  },
  {
   "cell_type": "code",
   "execution_count": null,
   "metadata": {},
   "outputs": [],
   "source": [
    "gdf_cctv2.crs"
   ]
  },
  {
   "cell_type": "code",
   "execution_count": null,
   "metadata": {},
   "outputs": [],
   "source": [
    "seoul.crs"
   ]
  },
  {
   "cell_type": "code",
   "execution_count": null,
   "metadata": {},
   "outputs": [],
   "source": [
    "# sample = sample.to_crs(epsg=3857)\n",
    "ax = sample.plot(figsize=(11, 11), \n",
    "\n",
    "\n",
    "\n",
    "\n",
    "\n",
    "\n",
    "\n",
    "\n",
    "\n",
    "\n",
    "\n",
    "\n",
    "\n",
    "\n",
    "\n",
    "\n",
    "\n",
    "\n",
    "\n",
    "\n",
    ")\n",
    "ax.set_title(\"서울 특별시 기초구역도\")\n",
    "gdf_cctv3.plot(color = 'blue')\n",
    "# ax.set_axis_off()"
   ]
  },
  {
   "cell_type": "code",
   "execution_count": null,
   "metadata": {},
   "outputs": [],
   "source": []
  },
  {
   "cell_type": "code",
   "execution_count": null,
   "metadata": {},
   "outputs": [],
   "source": [
    "gdf_admin_gu_pg = gpd.read_file('./SIG_202101/TL_SCCO_SIG.shp', encoding='euc-kr')  \n",
    "gdf_admin_gu_pg.crs\n",
    "#euc-kr, euckr, utf-8, cp949 중 선택"
   ]
  },
  {
   "cell_type": "code",
   "execution_count": null,
   "metadata": {},
   "outputs": [],
   "source": [
    "gdf_admin_gu_pg2 = gdf_admin_gu_pg.to_crs(epsg=3857)  #좌표계를 3857로 "
   ]
  },
  {
   "cell_type": "code",
   "execution_count": null,
   "metadata": {},
   "outputs": [],
   "source": [
    "gdf_admin_gu_pg2[gdf_admin_gu_pg2['SIG_KOR_NM']=='서울시']"
   ]
  },
  {
   "cell_type": "code",
   "execution_count": null,
   "metadata": {},
   "outputs": [],
   "source": [
    "gdf_admin_gu_pg2[gdf_admin_gu_pg2['SIG_KOR_NM'].str.contains('경기')]"
   ]
  },
  {
   "cell_type": "code",
   "execution_count": null,
   "metadata": {},
   "outputs": [],
   "source": [
    "gdf_admin_gu_pg2.plot(color='grey')"
   ]
  },
  {
   "cell_type": "code",
   "execution_count": null,
   "metadata": {},
   "outputs": [],
   "source": [
    "gdf_admin_gu_pg2['DO'] = gdf_admin_gu_pg2['SIG_CD'].str.slice(start=0, stop=2) \n",
    "gdf_admin_gu_pg3 = gdf_admin_gu_pg2[gdf_admin_gu_pg2['DO'].str.contains('11')==True]  \n",
    "gdf_admin_gu_pg3.info()\n",
    "gdf_admin_gu_pg3.head()\n",
    "gdf_admin_gu_pg3.plot(color='grey')"
   ]
  },
  {
   "cell_type": "code",
   "execution_count": null,
   "metadata": {},
   "outputs": [],
   "source": [
    "gdf_admin_gu_pg3['dummy'] = 'dummy'  #서울시 구별 폴리곤에 더미 컬럼 추가\n",
    "geom = gdf_admin_gu_pg3.dissolve(by='dummy').geometry[0]  # '더미'값으로 디졸브한 서울시 영역\n",
    "gdf_cctv3 = gdf_cctv3[gdf_cctv3.within(geom)] #서울시 영역 내 도서관 포인트 선택\n",
    "gdf_cctv3.plot(color='grey')"
   ]
  },
  {
   "cell_type": "code",
   "execution_count": null,
   "metadata": {},
   "outputs": [],
   "source": [
    "gdf_admin_gu_pg4 = gdf_admin_gu_pg3[gdf_admin_gu_pg3['SIG_KOR_NM'] =='강남구']"
   ]
  },
  {
   "cell_type": "code",
   "execution_count": null,
   "metadata": {},
   "outputs": [],
   "source": [
    "ax = gdf_admin_gu_pg4.plot(color=\"w\", edgecolor=\"k\", figsize=(20, 10))\n",
    "ax.set_title(\"서울 특별시 기초구역도\")\n",
    "gdf_cctv3.plot(column = 'cnt',cmap = 'winter',scheme=\"quantiles\", k=4, legend = True, ax=ax)"
   ]
  },
  {
   "cell_type": "code",
   "execution_count": null,
   "metadata": {},
   "outputs": [],
   "source": []
  },
  {
   "cell_type": "code",
   "execution_count": null,
   "metadata": {},
   "outputs": [],
   "source": [
    "ax = gdf_admin_gu_pg4.plot(color=\"w\", edgecolor=\"k\", figsize=(20, 10))\n",
    "ax.set_title(\"서울 특별시 기초구역도\")\n",
    "gdf_cctv3.plot(column = 'cnt',cmap = 'tab20', categorical=True, ax=ax, legend=True)"
   ]
  },
  {
   "cell_type": "code",
   "execution_count": null,
   "metadata": {},
   "outputs": [],
   "source": []
  }
 ],
 "metadata": {
  "interpreter": {
   "hash": "a590ababce8bfb38db0102a1ffd67eae844de4e0c3a0e1f330a7cc1248baa0ec"
  },
  "kernelspec": {
   "display_name": "Python 3.8.5 64-bit ('base': conda)",
   "language": "python",
   "name": "python3"
  },
  "language_info": {
   "codemirror_mode": {
    "name": "ipython",
    "version": 3
   },
   "file_extension": ".py",
   "mimetype": "text/x-python",
   "name": "python",
   "nbconvert_exporter": "python",
   "pygments_lexer": "ipython3",
   "version": "3.8.12"
  },
  "orig_nbformat": 4
 },
 "nbformat": 4,
 "nbformat_minor": 2
}
